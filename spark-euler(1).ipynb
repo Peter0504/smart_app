{
 "cells": [
  {
   "cell_type": "markdown",
   "metadata": {},
   "source": [
    "## Spark Demo 1   - A simple Euler sum computation\n",
    "This is a very trivial demo of spark.   If you download and install spark from spark-2.0.2-bin-hadoop2.7 then cd to that directory and do the following \n",
    "<pre>\n",
    "$ export PYSPARK_DRIVER_PYTHON=Jupyter\n",
    "$ export PYSPARK_DRIVER_PYTHON_OPTS=notebook\n",
    "$bin/pyspark \n",
    "</pre>\n",
    "Jupyter will come up in that directory with the spark context \"sc\" already loaded.  The usual way to get tthe spark context is \n",
    "<pre>\n",
    "sc = pyspark.SparkContext('local[*]')\n",
    "</pre>\n",
    "which tell spark to use all available cores on the local machine.   For other clusters you may need something else."
   ]
  },
  {
   "cell_type": "code",
   "execution_count": 1,
   "metadata": {
    "collapsed": false,
    "jupyter": {
     "outputs_hidden": false
    }
   },
   "outputs": [],
   "source": [
    "import numpy as np\n",
    "import pyspark\n",
    "import time"
   ]
  },
  {
   "cell_type": "code",
   "execution_count": 2,
   "metadata": {
    "collapsed": false,
    "jupyter": {
     "outputs_hidden": false
    }
   },
   "outputs": [],
   "source": [
    "n = 10000000\n",
    "ar = np.arange(n)"
   ]
  },
  {
   "cell_type": "code",
   "execution_count": 3,
   "metadata": {
    "collapsed": false,
    "jupyter": {
     "outputs_hidden": false
    }
   },
   "outputs": [
    {
     "data": {
      "text/plain": [
       "array([      0,       1,       2, ..., 9999997, 9999998, 9999999])"
      ]
     },
     "execution_count": 3,
     "metadata": {},
     "output_type": "execute_result"
    }
   ],
   "source": [
    "ar"
   ]
  },
  {
   "cell_type": "markdown",
   "metadata": {},
   "source": [
    "grab the spark context convert ar into a Spark RDD with 16 partitions."
   ]
  },
  {
   "cell_type": "code",
   "execution_count": 4,
   "metadata": {
    "collapsed": false,
    "jupyter": {
     "outputs_hidden": false
    }
   },
   "outputs": [
    {
     "data": {
      "text/html": [
       "\n",
       "        <div>\n",
       "            <p><b>SparkContext</b></p>\n",
       "\n",
       "            <p><a href=\"http://viax2024.internal.cloudapp.net:4041\">Spark UI</a></p>\n",
       "\n",
       "            <dl>\n",
       "              <dt>Version</dt>\n",
       "                <dd><code>v3.2.4</code></dd>\n",
       "              <dt>Master</dt>\n",
       "                <dd><code>local[*]</code></dd>\n",
       "              <dt>AppName</dt>\n",
       "                <dd><code>PySparkShell</code></dd>\n",
       "            </dl>\n",
       "        </div>\n",
       "        "
      ],
      "text/plain": [
       "<SparkContext master=local[*] appName=PySparkShell>"
      ]
     },
     "execution_count": 4,
     "metadata": {},
     "output_type": "execute_result"
    }
   ],
   "source": [
    "sc"
   ]
  },
  {
   "cell_type": "markdown",
   "metadata": {},
   "source": [
    "This is where we create our first RDD called 'dat' from our array.   In this simple case the RDD will have 2 partitions."
   ]
  },
  {
   "cell_type": "code",
   "execution_count": 5,
   "metadata": {
    "collapsed": false,
    "jupyter": {
     "outputs_hidden": false
    }
   },
   "outputs": [],
   "source": [
    "numpartitions = 2\n",
    "dat = sc.parallelize(ar, numpartitions)"
   ]
  },
  {
   "cell_type": "markdown",
   "metadata": {},
   "source": [
    "For fun let's compute $\\sum_{i=1}^{n}(1/i^2)$ that Euler in 1735 proved: $$\\lim_{n->\\infty}\\sum_{i=1}^{n}\\frac{1}{i^2} = \\frac{\\pi^2}{6}$$"
   ]
  },
  {
   "cell_type": "markdown",
   "metadata": {},
   "source": [
    "now we will apply a simple map operation to compute $\\frac{1}{i^2}$ for each i.   Note that we do not actually execute this operation until we resolve the data back to the shell.   That will come with the reduce step below."
   ]
  },
  {
   "cell_type": "code",
   "execution_count": 6,
   "metadata": {
    "collapsed": false,
    "jupyter": {
     "outputs_hidden": false
    }
   },
   "outputs": [],
   "source": [
    "sqrs = dat.map(lambda i: 1.0/(i+1)**2)"
   ]
  },
  {
   "cell_type": "code",
   "execution_count": 10,
   "metadata": {
    "collapsed": false,
    "jupyter": {
     "outputs_hidden": false
    }
   },
   "outputs": [
    {
     "name": "stdout",
     "output_type": "stream",
     "text": [
      "{\"@version\":1,\"source_host\":\"VIAX2024\",\"message\":\"Stage 1 contains a task of very large size (93320 KiB). The maximum recommended task size is 1000 KiB.\",\"thread_name\":\"dispatcher-event-loop-2\",\"@timestamp\":\"2024-11-09T02:17:56.971+0000\",\"level\":\"WARN\",\"logger_name\":\"org.apache.spark.scheduler.TaskSetManager\"}\n"
     ]
    },
    {
     "name": "stderr",
     "output_type": "stream",
     "text": [
      "                                                                                \r"
     ]
    }
   ],
   "source": [
    "t0 = time.time()\n",
    "x = sqrs.reduce(lambda a,b: a+b)\n",
    "t1 = time.time()"
   ]
  },
  {
   "cell_type": "code",
   "execution_count": 9,
   "metadata": {
    "collapsed": false,
    "jupyter": {
     "outputs_hidden": false
    }
   },
   "outputs": [
    {
     "name": "stdout",
     "output_type": "stream",
     "text": [
      "x = 1.644934\n",
      "time=17.280473\n"
     ]
    }
   ],
   "source": [
    "print(\"x = %f\"%x)\n",
    "print(\"time=%f\"%(t1-t0))"
   ]
  },
  {
   "cell_type": "code",
   "execution_count": 11,
   "metadata": {
    "collapsed": false,
    "jupyter": {
     "outputs_hidden": false
    }
   },
   "outputs": [
    {
     "name": "stdout",
     "output_type": "stream",
     "text": [
      "pi**2/6=1.644934\n"
     ]
    }
   ],
   "source": [
    "print(\"pi**2/6=%f\"%((np.pi**2)/6))"
   ]
  },
  {
   "cell_type": "markdown",
   "metadata": {},
   "source": [
    "We rean this on 8 cores and the performance for different partition numbers was\n",
    "\n",
    "part = 16 time=6.939963\n",
    "\n",
    "part = 64 time = 6.214874\n",
    "\n",
    "part = 128 time=6.213802\n"
   ]
  },
  {
   "cell_type": "code",
   "execution_count": 12,
   "metadata": {
    "collapsed": false,
    "jupyter": {
     "outputs_hidden": false
    }
   },
   "outputs": [
    {
     "name": "stdout",
     "output_type": "stream",
     "text": [
      "x = 1.644934\n",
      "time=4.839653\n"
     ]
    }
   ],
   "source": [
    "x = 0.0\n",
    "t0 = time.time()\n",
    "for i in range(1,n):\n",
    "    x += 1.0/(i**2)\n",
    "t1 = time.time()\n",
    "print(\"x = %f\"%x)\n",
    "print(\"time=%f\"%(t1-t0))"
   ]
  },
  {
   "cell_type": "code",
   "execution_count": null,
   "metadata": {
    "collapsed": true,
    "jupyter": {
     "outputs_hidden": true
    }
   },
   "outputs": [],
   "source": []
  }
 ],
 "metadata": {
  "kernelspec": {
   "display_name": "Python 3 (ipykernel)",
   "language": "python",
   "name": "python3"
  },
  "language_info": {
   "codemirror_mode": {
    "name": "ipython",
    "version": 3
   },
   "file_extension": ".py",
   "mimetype": "text/x-python",
   "name": "python",
   "nbconvert_exporter": "python",
   "pygments_lexer": "ipython3",
   "version": "3.10.8"
  }
 },
 "nbformat": 4,
 "nbformat_minor": 4
}
